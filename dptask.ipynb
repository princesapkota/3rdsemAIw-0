{
 "cells": [
  {
   "cell_type": "code",
   "execution_count": null,
   "id": "468c7f1b-4f60-4f9e-a00d-f5d5e6fd6193",
   "metadata": {},
   "outputs": [],
   "source": [
    "#1\n",
    "def min_coins(coins, amount):\n",
    "    dp = [float('inf')] * (amount + 1)\n",
    "    dp[0] = 0\n",
    "\n",
    "    for coin in coins:\n",
    "        for i in range(coin, amount + 1):\n",
    "            dp[i] = min(dp[i], dp[i - coin] + 1)\n",
    "\n",
    "    return dp[amount] if dp[amount] != float('inf') else -1\n",
    "\n",
    "# Example\n",
    "coins = [1, 2, 5]\n",
    "amount = 11\n",
    "print(min_coins(coins, amount))\n"
   ]
  },
  {
   "cell_type": "code",
   "execution_count": null,
   "id": "82323c40-166a-4c3b-adef-8eb4dac3db7f",
   "metadata": {},
   "outputs": [],
   "source": [
    "#2\n",
    "def longest_common_subsequence(s1, s2):\n",
    "    dp = [[0] * (len(s2) + 1) for _ in range(len(s1) + 1)]\n",
    "    for i in range(1, len(s1) + 1):\n",
    "        for j in range(1, len(s2) + 1):\n",
    "            if s1[i - 1] == s2[j - 1]:\n",
    "                dp[i][j] = dp[i - 1][j - 1] + 1\n",
    "            else:\n",
    "                dp[i][j] = max(dp[i - 1][j], dp[i][j - 1])\n",
    "    return dp[len(s1)][len(s2)]\n",
    "\n",
    "s1 = \"abcde\"\n",
    "s2 = \"ace\"\n",
    "print(longest_common_subsequence(s1, s2))\n"
   ]
  },
  {
   "cell_type": "code",
   "execution_count": null,
   "id": "08b84b3d-b5fc-433e-a45a-9bc4190c5918",
   "metadata": {},
   "outputs": [],
   "source": [
    "#3\n",
    "def knapsack(weights, values, capacity):\n",
    "    n = len(weights)\n",
    "    dp = [[0] * (capacity + 1) for _ in range(n + 1)]\n",
    "\n",
    "    for i in range(1, n + 1):\n",
    "        for w in range(1, capacity + 1):\n",
    "            if weights[i - 1] <= w:\n",
    "                dp[i][w] = max(dp[i - 1][w], dp[i - 1][w - weights[i - 1]] + values[i - 1])\n",
    "            else:\n",
    "                dp[i][w] = dp[i - 1][w]\n",
    "\n",
    "    return dp[n][capacity]\n",
    "\n",
    "weights = [1, 3, 4, 5]\n",
    "values = [1, 4, 5, 7]\n",
    "capacity = 7\n",
    "print(knapsack(weights, values, capacity))\n"
   ]
  }
 ],
 "metadata": {
  "kernelspec": {
   "display_name": "Python 3 (ipykernel)",
   "language": "python",
   "name": "python3"
  },
  "language_info": {
   "codemirror_mode": {
    "name": "ipython",
    "version": 3
   },
   "file_extension": ".py",
   "mimetype": "text/x-python",
   "name": "python",
   "nbconvert_exporter": "python",
   "pygments_lexer": "ipython3",
   "version": "3.12.3"
  }
 },
 "nbformat": 4,
 "nbformat_minor": 5
}
