{
 "cells": [
  {
   "cell_type": "code",
   "execution_count": 1,
   "id": "7d09d1aa-bb58-4f16-a500-2dfe73d8d10d",
   "metadata": {},
   "outputs": [
    {
     "name": "stdout",
     "output_type": "stream",
     "text": [
      "Sum of nested_list_1: 36\n",
      "Sum of nested_list_2: 15\n"
     ]
    }
   ],
   "source": [
    "#1\n",
    "def sum_nested_list(nested_list):\n",
    "    total = 0\n",
    "    for element in nested_list:\n",
    "        if isinstance(element, list):\n",
    "            total += sum_nested_list(element)  \n",
    "        else:\n",
    "            total += element  # Add the number to the total\n",
    "    return total\n",
    "\n",
    "nested_list_1 = [1, [2, [3, 4], 5], 6, [7, 8]]\n",
    "nested_list_2 = [1, [2, 3], [4, [5]]]\n",
    "\n",
    "print(\"Sum of nested_list_1:\", sum_nested_list(nested_list_1))\n",
    "print(\"Sum of nested_list_2:\", sum_nested_list(nested_list_2))\n"
   ]
  },
  {
   "cell_type": "code",
   "execution_count": null,
   "id": "eb93777c-04fe-497b-af1f-1a8207d812cd",
   "metadata": {},
   "outputs": [],
   "source": [
    "#2\n",
    "def generate_permutations(s):\n",
    "    if len(s) == 1:\n",
    "        return [s]\n",
    "\n",
    "    permutations = set()\n",
    "    for i, char in enumerate(s):\n",
    "        remaining = s[:i] + s[i+1:]\n",
    "        for perm in generate_permutations(remaining):\n",
    "            permutations.add(char + perm)\n",
    "\n",
    "    return list(permutations)\n",
    "\n",
    "print(sorted(generate_permutations(\"abc\")))\n",
    "print(sorted(generate_permutations(\"aab\")))\n"
   ]
  },
  {
   "cell_type": "code",
   "execution_count": 2,
   "id": "2d246b27-ef41-4fa6-96c4-0b1042209ec5",
   "metadata": {},
   "outputs": [
    {
     "name": "stdout",
     "output_type": "stream",
     "text": [
      "Total size of the directory: 1400 KB\n"
     ]
    }
   ],
   "source": [
    "#3\n",
    "def directory_size(directory):\n",
    "\n",
    "    total_size = 0\n",
    "\n",
    "    for key, value in directory.items():\n",
    "        if isinstance(value, dict):\n",
    "            # If the value is a dictionary, it's a subdirectory; calculate its size recursively\n",
    "            total_size += directory_size(value)\n",
    "        else:\n",
    "            # If the value is an integer, it's a file size; add it to the total\n",
    "            total_size += value\n",
    "    return total_size\n",
    "directory_structure = {\n",
    "    \"file1.txt\": 200,\n",
    "    \"file2.txt\": 300,\n",
    "    \"subdir1\": {\n",
    "        \"file3.txt\": 400,\n",
    "        \"file4.txt\": 100\n",
    "    },\n",
    "    \"subdir2\": {\n",
    "        \"subsubdir1\": {\n",
    "            \"file5.txt\": 250\n",
    "        },\n",
    "        \"file6.txt\": 150\n",
    "    }\n",
    "}\n",
    "\n",
    "total_size = directory_size(directory_structure)\n",
    "print(\"Total size of the directory:\", total_size, \"KB\")\n",
    "\n"
   ]
  },
  {
   "cell_type": "code",
   "execution_count": null,
   "id": "f1fd2c70-f086-4490-9627-fa3b56a5b951",
   "metadata": {},
   "outputs": [],
   "source": []
  }
 ],
 "metadata": {
  "kernelspec": {
   "display_name": "Python 3 (ipykernel)",
   "language": "python",
   "name": "python3"
  },
  "language_info": {
   "codemirror_mode": {
    "name": "ipython",
    "version": 3
   },
   "file_extension": ".py",
   "mimetype": "text/x-python",
   "name": "python",
   "nbconvert_exporter": "python",
   "pygments_lexer": "ipython3",
   "version": "3.12.3"
  }
 },
 "nbformat": 4,
 "nbformat_minor": 5
}
