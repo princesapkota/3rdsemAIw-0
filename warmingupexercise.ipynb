{
 "cells": [
  {
   "cell_type": "code",
   "execution_count": 2,
   "id": "ac4d50f8-c0fc-421f-a5a1-51ab79065ede",
   "metadata": {},
   "outputs": [
    {
     "name": "stdout",
     "output_type": "stream",
     "text": [
      "Cold [8.2, 7.9, 9.0, 8.5, 7.7, 8.4, 9.5, 8.1, 7.6, 8.0, 7.8, 8.7, 9.2, 8.3, 8.9, 7.8]\n",
      "Mild [14.1, 13.5, 13.0, 12.9, 13.3, 14.0, 13.4, 14.2, 12.8, 13.7, 13.6, 13.8, 13.9, 12.7, 13.1, 12.5]\n",
      "Comfortable [17.4, 18.0, 17.8, 16.5, 17.2, 16.7, 18.3, 17.9, 17.0, 16.8, 17.5, 17.1, 18.1, 16.4, 18.2, 16.6]\n"
     ]
    }
   ],
   "source": [
    "# Task1 Classify Temperatures\n",
    "temperatures = [8.2, 17.4, 14.1, 7.9, 18.0, 13.5, 9.0, 17.8, 13.0, 8.5,\n",
    "16.5, 12.9, 7.7, 17.2, 13.3, 8.4, 16.7, 14.0, 9.5, 18.3, 13.4, 8.1,\n",
    "17.9, 14.2, 7.6, 17.0, 12.8, 8.0, 16.8, 13.7, 7.8, 17.5, 13.6, 8.7,\n",
    "17.1, 13.8, 9.2, 18.1, 13.9, 8.3, 16.4, 12.7, 8.9, 18.2, 13.1, 7.8,\n",
    "16.6, 12.5]\n",
    "\n",
    "Cold = []\n",
    "Mild = []\n",
    "Comfortable = []\n",
    "\n",
    "for temperature in temperatures:\n",
    "    if temperature < 10:\n",
    "        Cold.append(temperature)\n",
    "    elif temperature >= 10 and temperature < 15:\n",
    "        Mild.append(temperature)\n",
    "    elif temperature >=15 and temperature <= 20:\n",
    "        Comfortable.append(temperature)\n",
    "\n",
    "print(\"Cold\",Cold)\n",
    "print(\"Mild\", Mild)\n",
    "print(\"Comfortable\", Comfortable)"
   ]
  },
  {
   "cell_type": "code",
   "execution_count": 3,
   "id": "b3d2dcab-fefb-492f-9b1b-80bf7bb6493f",
   "metadata": {},
   "outputs": [
    {
     "name": "stdout",
     "output_type": "stream",
     "text": [
      "[32.0, 86.0, 104.0]\n"
     ]
    }
   ],
   "source": [
    "#Task3 Convert Temperatures from celsius to Fahrenheit\n",
    "temp_celsius =[0,30,40]\n",
    "\n",
    "Temperature_Fahrenheit =[]\n",
    "for Temperature in temp_celsius:\n",
    "    Fahrenheit = (Temperature * 9/5)+32\n",
    "    Temperature_Fahrenheit.append(Fahrenheit)\n",
    "\n",
    "print(Temperature_Fahrenheit)"
   ]
  },
  {
   "cell_type": "code",
   "execution_count": 4,
   "id": "fa970ff4-21bf-4312-9b6a-8880f663643c",
   "metadata": {},
   "outputs": [
    {
     "name": "stdout",
     "output_type": "stream",
     "text": [
      "Night temperature [8.2, 7.9, 9.0, 8.5, 7.7, 8.4, 9.5, 8.1, 7.6, 8.0, 7.8, 8.7, 9.2, 8.3, 8.9, 7.8]\n",
      "Day Temperature [17.4, 18.0, 17.8, 16.5, 17.2, 16.7, 18.3, 17.9, 17.0, 16.8, 17.5, 17.1, 18.1, 16.4, 18.2, 16.6]\n",
      "Evening Temperature [14.1, 13.5, 13.0, 12.9, 13.3, 14.0, 13.4, 14.2, 12.8, 13.7, 13.6, 13.8, 13.9, 12.7, 13.1, 12.5]\n",
      "Average Temperature of Day =  17.34375\n"
     ]
    }
   ],
   "source": [
    "#Task4 Analyze Temperature Patterns by Time Day\n",
    "\n",
    "Temperature = [8.2, 17.4, 14.1, 7.9, 18.0, 13.5, 9.0, 17.8, 13.0, 8.5,\n",
    "16.5, 12.9, 7.7, 17.2, 13.3, 8.4, 16.7, 14.0, 9.5, 18.3, 13.4, 8.1,\n",
    "17.9, 14.2, 7.6, 17.0, 12.8, 8.0, 16.8, 13.7, 7.8, 17.5, 13.6, 8.7,\n",
    "17.1, 13.8, 9.2, 18.1, 13.9, 8.3, 16.4, 12.7, 8.9, 18.2, 13.1, 7.8,\n",
    "16.6, 12.5]\n",
    "\n",
    "Night_temp = []\n",
    "Day_temp = []\n",
    "Evening_temp = []\n",
    "\n",
    "for i in range(0, len(Temperature),3):\n",
    "    Night_temp.append(Temperature [i])\n",
    "    Day_temp.append(Temperature [i+1])\n",
    "    Evening_temp.append(Temperature [i+2])\n",
    "\n",
    "print(\"Night temperature\", Night_temp)\n",
    "print(\"Day Temperature\", Day_temp)\n",
    "print(\"Evening Temperature\", Evening_temp)\n",
    "\n",
    "Average_Day_Temp = sum(Day_temp) / len(Day_temp)\n",
    "print(\"Average Temperature of Day = \", Average_Day_Temp) "
   ]
  },
  {
   "cell_type": "code",
   "execution_count": null,
   "id": "9b96ce96-f957-4557-a068-320087c19767",
   "metadata": {},
   "outputs": [],
   "source": [
    "# Task 2\n",
    "temperatures = [\n",
    "    8.2, 17.4, 14.1, 7.9, 18.0, 13.5, 9.0, 17.8, 13.0, 8.5,\n",
    "    16.5, 12.9, 7.7, 17.2, 13.3, 8.4, 16.7, 14.0, 9.5, 18.3,\n",
    "    13.4, 8.1, 17.9, 14.2, 7.6, 17.0, 12.8, 8.0, 16.8, 13.7,\n",
    "    7.8, 17.5, 13.6, 8.7, 17.1, 13.8, 9.2, 18.1, 13.9, 8.3,\n",
    "    16.4, 12.7, 8.9, 18.2, 13.1, 7.8, 16.6, 12.5\n",
    "]\n",
    "\n",
    "Cold = []\n",
    "Mild = []\n",
    "Comfortable = []\n",
    "\n",
    "for temperature in temperatures:\n",
    "    if temperature < 10:\n",
    "        Cold.append(temperature)\n",
    "    elif 10 <= temperature < 15:\n",
    "        Mild.append(temperature)\n",
    "    elif 15 <= temperature <= 20:\n",
    "        Comfortable.append(temperature)\n",
    "print(\"1. How many times was it mild?\")\n",
    "print(\"Answer:\", len(Mild))\n",
    "print(\"2. How many times was it comfortable?\")\n",
    "print(\"Answer:\", len(Comfortable))\n",
    "print(\"3. How many times was it cold?\")\n",
    "print(\"Answer:\", len(Cold))\n"
   ]
  }
 ],
 "metadata": {
  "kernelspec": {
   "display_name": "Python 3 (ipykernel)",
   "language": "python",
   "name": "python3"
  },
  "language_info": {
   "codemirror_mode": {
    "name": "ipython",
    "version": 3
   },
   "file_extension": ".py",
   "mimetype": "text/x-python",
   "name": "python",
   "nbconvert_exporter": "python",
   "pygments_lexer": "ipython3",
   "version": "3.12.3"
  }
 },
 "nbformat": 4,
 "nbformat_minor": 5
}
